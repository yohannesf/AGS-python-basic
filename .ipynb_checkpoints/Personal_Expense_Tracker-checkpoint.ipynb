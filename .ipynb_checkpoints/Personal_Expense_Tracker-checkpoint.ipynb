{
 "cells": [
  {
   "cell_type": "markdown",
   "id": "cc58e2a3-41b9-41fd-95bc-1bea3c73f043",
   "metadata": {},
   "source": [
    "# Personal Expense Tracker - AGS-Python Basics "
   ]
  },
  {
   "cell_type": "code",
   "execution_count": 6,
   "id": "17042273-3159-4682-86a6-01542d866203",
   "metadata": {
    "tags": []
   },
   "outputs": [],
   "source": [
    "expenses = []"
   ]
  },
  {
   "cell_type": "code",
   "execution_count": 24,
   "id": "7958e93c-0921-4112-be53-5bf1afda9c58",
   "metadata": {
    "tags": []
   },
   "outputs": [],
   "source": [
    "def personal_expense_tracker():    \n",
    "    expense_date = input(\"Enter Date (YYYY-MM-DD):\")\n",
    "    expense_category = input(\"Expense Category:\")\n",
    "    expense_amount = float(input(\"Amount:\"))\n",
    "    expense_description = input(\"Brief Description:\")\n",
    "\n",
    "    expense = {\n",
    "        \"date\": expense_date,\n",
    "        \"category\": expense_category,\n",
    "        \"amount\":expense_amount,\n",
    "        \"description\": expense_description\n",
    "    }\n",
    "    expenses.append(expense)\n",
    "    return expenses"
   ]
  },
  {
   "cell_type": "code",
   "execution_count": 27,
   "id": "05806a01-df71-47c0-b252-d869082fb3f7",
   "metadata": {
    "tags": []
   },
   "outputs": [
    {
     "name": "stdin",
     "output_type": "stream",
     "text": [
      "Enter Date (YYYY-MM-DD): 12-12-12\n",
      "Expense Category: \n",
      "Amount: 56.6\n",
      "Brief Description: dis\n"
     ]
    },
    {
     "name": "stdout",
     "output_type": "stream",
     "text": [
      "[{'date': '2012-12-12', 'category': 'Food', 'amount': 12.3, 'description': 'Out'}, {'date': '2121-02-02', 'category': 'Clothing', 'amount': 56.6, 'description': 'Summer clothing'}, {'date': '12-12-12', 'category': '', 'amount': 56.6, 'description': 'dis'}]\n"
     ]
    }
   ],
   "source": [
    "personal_expenses = personal_expense_tracker()\n",
    "print(personal_expenses)"
   ]
  },
  {
   "cell_type": "code",
   "execution_count": 28,
   "id": "4061e45a-3d87-4172-9846-2040cf109f7a",
   "metadata": {
    "tags": []
   },
   "outputs": [
    {
     "name": "stdout",
     "output_type": "stream",
     "text": [
      "[{'date': '2012-12-12', 'category': 'Food', 'amount': 12.3, 'description': 'Out'}, {'date': '2121-02-02', 'category': 'Clothing', 'amount': 56.6, 'description': 'Summer clothing'}, {'date': '12-12-12', 'category': '', 'amount': 56.6, 'description': 'dis'}]\n"
     ]
    }
   ],
   "source": [
    "print(personal_expenses)"
   ]
  },
  {
   "cell_type": "code",
   "execution_count": 29,
   "id": "2a3e22e6-2a8f-4be2-9906-b4adb41275a6",
   "metadata": {
    "tags": []
   },
   "outputs": [
    {
     "name": "stdout",
     "output_type": "stream",
     "text": [
      "date 2012-12-12\n",
      "category Food\n",
      "amount 12.3\n",
      "description Out\n",
      "\n",
      "\n",
      "date 2121-02-02\n",
      "category Clothing\n",
      "amount 56.6\n",
      "description Summer clothing\n",
      "\n",
      "\n",
      "Incomplete expense entry. Skipping...\n",
      "\n"
     ]
    }
   ],
   "source": [
    "def print_expenses(personal_expenses):\n",
    "    for expense in personal_expenses:\n",
    "        \n",
    "        \n",
    "        if expense[\"date\"] == \"\" or expense[\"category\"] == \"\" or expense[\"amount\"] == \"\" or expense[\"description\"] == \"\":\n",
    "            print(\"Incomplete expense entry skipped.\\n\")\n",
    "            continue\n",
    "            \n",
    "        for k,v in expense.items():\n",
    "            print(k,v)\n",
    "        print(\"\\n\")\n",
    "\n",
    "print_expenses(personal_expenses)"
   ]
  },
  {
   "cell_type": "code",
   "execution_count": 31,
   "id": "d333541d-311b-43ee-870e-cc330d20faec",
   "metadata": {
    "tags": []
   },
   "outputs": [],
   "source": [
    "def monthly_budget():\n",
    "    return float(input(\"What's your monthly budget?\"))"
   ]
  },
  {
   "cell_type": "code",
   "execution_count": 32,
   "id": "5b2988f1-230a-462b-9dce-d69e2ddd96e2",
   "metadata": {
    "tags": []
   },
   "outputs": [
    {
     "name": "stdin",
     "output_type": "stream",
     "text": [
      "What's your monthly budget? 190\n"
     ]
    }
   ],
   "source": [
    "monthly_budget = monthly_budget()"
   ]
  },
  {
   "cell_type": "code",
   "execution_count": 38,
   "id": "6e41644f-b64f-43c1-8b73-b29943e850eb",
   "metadata": {
    "tags": []
   },
   "outputs": [
    {
     "ename": "UnboundLocalError",
     "evalue": "cannot access local variable 'total_expense' where it is not associated with a value",
     "output_type": "error",
     "traceback": [
      "\u001b[0;31m---------------------------------------------------------------------------\u001b[0m",
      "\u001b[0;31mUnboundLocalError\u001b[0m                         Traceback (most recent call last)",
      "Cell \u001b[0;32mIn[38], line 15\u001b[0m\n\u001b[1;32m     13\u001b[0m     \u001b[38;5;28;01melse\u001b[39;00m:\n\u001b[1;32m     14\u001b[0m         \u001b[38;5;28mprint\u001b[39m(\u001b[38;5;124mf\u001b[39m\u001b[38;5;124m'\u001b[39m\u001b[38;5;124mYou have \u001b[39m\u001b[38;5;132;01m{\u001b[39;00mbudget\u001b[38;5;241m-\u001b[39mtotal_expense\u001b[38;5;132;01m}\u001b[39;00m\u001b[38;5;124m left for the month\u001b[39m\u001b[38;5;124m'\u001b[39m)\n\u001b[0;32m---> 15\u001b[0m calculate_total_expenses(expenses,monthly_budget)\n",
      "Cell \u001b[0;32mIn[38], line 7\u001b[0m, in \u001b[0;36mcalculate_total_expenses\u001b[0;34m(personal_expenses, budget)\u001b[0m\n\u001b[1;32m      2\u001b[0m \u001b[38;5;28;01mdef\u001b[39;00m \u001b[38;5;21mcalculate_total_expenses\u001b[39m(personal_expenses,budget):\n\u001b[1;32m      3\u001b[0m     \u001b[38;5;28;01mfor\u001b[39;00m expense \u001b[38;5;129;01min\u001b[39;00m personal_expenses:\n\u001b[1;32m      4\u001b[0m         \n\u001b[1;32m      5\u001b[0m         \n\u001b[1;32m      6\u001b[0m         \u001b[38;5;66;03m#if not (expense[\"date\"] == \"\" or expense[\"category\"] == \"\" or expense[\"amount\"] == \"\" or expense[\"description\"] == \"\"):\u001b[39;00m\n\u001b[0;32m----> 7\u001b[0m         total_expense \u001b[38;5;241m=\u001b[39m expense[\u001b[38;5;124m\"\u001b[39m\u001b[38;5;124mamount\u001b[39m\u001b[38;5;124m\"\u001b[39m]\u001b[38;5;241m+\u001b[39mtotal_expense\n\u001b[1;32m     10\u001b[0m         \u001b[38;5;28mprint\u001b[39m(\u001b[38;5;124m\"\u001b[39m\u001b[38;5;130;01m\\n\u001b[39;00m\u001b[38;5;124m\"\u001b[39m)\n\u001b[1;32m     11\u001b[0m     \u001b[38;5;28;01mif\u001b[39;00m total_expense \u001b[38;5;241m>\u001b[39m budget:\n",
      "\u001b[0;31mUnboundLocalError\u001b[0m: cannot access local variable 'total_expense' where it is not associated with a value"
     ]
    }
   ],
   "source": [
    "\n",
    "def calculate_total_expenses(personal_expenses,budget):\n",
    "    total_expense = 0\n",
    "    for expense in personal_expenses:\n",
    "        \n",
    "        \n",
    "        #if not (expense[\"date\"] == \"\" or expense[\"category\"] == \"\" or expense[\"amount\"] == \"\" or expense[\"description\"] == \"\"):\n",
    "        total_expense = expense[\"amount\"]+total_expense\n",
    "            \n",
    "        \n",
    "        print(\"\\n\")\n",
    "    if total_expense > budget:\n",
    "        print(\"You have exceeded your budget\",end=\"\\n\")\n",
    "    else:\n",
    "        print(f'You have {budget-total_expense} left for the month')\n",
    "calculate_total_expenses(expenses,monthly_budget)"
   ]
  }
 ],
 "metadata": {
  "kernelspec": {
   "display_name": "Python 3 (ipykernel)",
   "language": "python",
   "name": "python3"
  },
  "language_info": {
   "codemirror_mode": {
    "name": "ipython",
    "version": 3
   },
   "file_extension": ".py",
   "mimetype": "text/x-python",
   "name": "python",
   "nbconvert_exporter": "python",
   "pygments_lexer": "ipython3",
   "version": "3.11.5"
  }
 },
 "nbformat": 4,
 "nbformat_minor": 5
}
