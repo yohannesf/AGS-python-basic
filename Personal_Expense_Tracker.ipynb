{
 "cells": [
  {
   "cell_type": "markdown",
   "id": "cc58e2a3-41b9-41fd-95bc-1bea3c73f043",
   "metadata": {},
   "source": [
    "# Personal Expense Tracker - AGS-Python Basics "
   ]
  },
  {
   "cell_type": "code",
   "execution_count": 1,
   "id": "ec65b18f-595c-41ce-8a6d-94a5c6e0ff82",
   "metadata": {
    "tags": []
   },
   "outputs": [],
   "source": [
    "\n",
    "from datetime import datetime\n",
    "import pandas as pd"
   ]
  },
  {
   "cell_type": "code",
   "execution_count": 2,
   "id": "17042273-3159-4682-86a6-01542d866203",
   "metadata": {
    "tags": []
   },
   "outputs": [],
   "source": [
    "expenses = []"
   ]
  },
  {
   "cell_type": "code",
   "execution_count": 3,
   "id": "7958e93c-0921-4112-be53-5bf1afda9c58",
   "metadata": {
    "tags": []
   },
   "outputs": [],
   "source": [
    "def enter_expenses():    \n",
    "    expense_date = input(\"Enter Date (YYYY-MM-DD):\")\n",
    "    expense_category = input(\"Expense Category:\")\n",
    "    expense_amount = float(input(\"Amount:\"))\n",
    "    expense_description = input(\"Brief Description:\")\n",
    "\n",
    "    expense = {\n",
    "        \"date\": expense_date,\n",
    "        \"category\": expense_category,\n",
    "        \"amount\":expense_amount,\n",
    "        \"description\": expense_description\n",
    "    }\n",
    "    expenses.append(expense)\n",
    "    return expenses"
   ]
  },
  {
   "cell_type": "code",
   "execution_count": null,
   "id": "05806a01-df71-47c0-b252-d869082fb3f7",
   "metadata": {
    "tags": []
   },
   "outputs": [],
   "source": [
    "personal_expenses = enter_expenses()\n",
    "print(personal_expenses)"
   ]
  },
  {
   "cell_type": "code",
   "execution_count": 5,
   "id": "4061e45a-3d87-4172-9846-2040cf109f7a",
   "metadata": {
    "tags": []
   },
   "outputs": [
    {
     "name": "stdout",
     "output_type": "stream",
     "text": [
      "[{'date': '2020-12-12', 'category': 'Food', 'amount': 78.0, 'description': 'Food for thought'}]\n"
     ]
    }
   ],
   "source": [
    "print(personal_expenses)"
   ]
  },
  {
   "cell_type": "code",
   "execution_count": 26,
   "id": "2a3e22e6-2a8f-4be2-9906-b4adb41275a6",
   "metadata": {
    "tags": []
   },
   "outputs": [],
   "source": [
    "def print_expenses(personal_expenses):\n",
    "    for expense in personal_expenses:\n",
    "        \n",
    "        \n",
    "        if expense[\"date\"] == \"\" or expense[\"category\"] == \"\" or expense[\"amount\"] == \"\" or expense[\"description\"] == \"\":\n",
    "            print(\"Incomplete expense entry skipped.\\n\")\n",
    "            continue\n",
    "            \n",
    "        for k,v in expense.items():\n",
    "            print(k,v)\n",
    "        print(\"\\n\")"
   ]
  },
  {
   "cell_type": "code",
   "execution_count": 27,
   "id": "f3407a4e-223a-4506-9c75-f9f20e834c48",
   "metadata": {
    "tags": []
   },
   "outputs": [
    {
     "name": "stdout",
     "output_type": "stream",
     "text": [
      "date 2020-12-12\n",
      "category Food\n",
      "amount 78.0\n",
      "description Food for thought\n",
      "\n",
      "\n",
      "date 2020-12-06\n",
      "category Clothing\n",
      "amount 56.0\n",
      "description Clothing for the poor\n",
      "\n",
      "\n",
      "date 2020-08-08\n",
      "category Food\n",
      "amount 12.0\n",
      "description Friday night\n",
      "\n",
      "\n"
     ]
    }
   ],
   "source": [
    "print_expenses(expenses)"
   ]
  },
  {
   "cell_type": "code",
   "execution_count": 7,
   "id": "d333541d-311b-43ee-870e-cc330d20faec",
   "metadata": {
    "tags": []
   },
   "outputs": [],
   "source": [
    "def monthly_budget():\n",
    "    return float(input(\"What's your monthly budget?\"))"
   ]
  },
  {
   "cell_type": "code",
   "execution_count": 8,
   "id": "5b2988f1-230a-462b-9dce-d69e2ddd96e2",
   "metadata": {
    "tags": []
   },
   "outputs": [
    {
     "name": "stdin",
     "output_type": "stream",
     "text": [
      "What's your monthly budget? 200\n"
     ]
    }
   ],
   "source": [
    "monthly_budget = monthly_budget()"
   ]
  },
  {
   "cell_type": "code",
   "execution_count": 9,
   "id": "6e41644f-b64f-43c1-8b73-b29943e850eb",
   "metadata": {
    "tags": []
   },
   "outputs": [
    {
     "name": "stdout",
     "output_type": "stream",
     "text": [
      "\n",
      "\n",
      "You have 122.0 left for the month\n"
     ]
    }
   ],
   "source": [
    "\n",
    "def calculate_total_expenses(personal_expenses,budget):\n",
    "    total_expense = 0\n",
    "    for expense in personal_expenses:\n",
    "        \n",
    "        \n",
    "        #if not (expense[\"date\"] == \"\" or expense[\"category\"] == \"\" or expense[\"amount\"] == \"\" or expense[\"description\"] == \"\"):\n",
    "        total_expense = expense[\"amount\"]+total_expense\n",
    "            \n",
    "        \n",
    "        print(\"\\n\")\n",
    "    if total_expense > budget:\n",
    "        print(\"You have exceeded your budget\",end=\"\\n\")\n",
    "    else:\n",
    "        print(f'You have {budget-total_expense} left for the month')\n"
   ]
  },
  {
   "cell_type": "code",
   "execution_count": 11,
   "id": "f4ce3b49-4199-4b9a-8941-d83040c515d4",
   "metadata": {
    "tags": []
   },
   "outputs": [],
   "source": [
    "# Function to save expenses to CSV\n",
    "def save_expenses_to_csv():\n",
    "    if not expenses:\n",
    "        print(\"No Expense Data to save\")\n",
    "        return\n",
    "    \n",
    "    df = pd.DataFrame(expenses)\n",
    "    df.to_csv(\"expenses.csv\", index=False)\n",
    "    print(\"Expenses saved to expenses.csv\")"
   ]
  },
  {
   "cell_type": "code",
   "execution_count": 13,
   "id": "c23c6115-400b-430f-8a4d-61dded46dfda",
   "metadata": {
    "tags": []
   },
   "outputs": [
    {
     "name": "stdout",
     "output_type": "stream",
     "text": [
      "Expenses saved to expenses.csv\n"
     ]
    }
   ],
   "source": [
    "save_expenses_to_csv()"
   ]
  },
  {
   "cell_type": "code",
   "execution_count": 29,
   "id": "9754a369-003e-4d02-a493-144d36c53c03",
   "metadata": {
    "tags": []
   },
   "outputs": [],
   "source": [
    " def menu():\n",
    "    while True:\n",
    "\n",
    "        print(\"1. Add an expense\")\n",
    "        print(\"2. View expenses\")\n",
    "        print(\"3. Track budget\")\n",
    "        print(\"4. Save expenses\")\n",
    "        print(\"5. Exit\")\n",
    "\n",
    "        choice = input(\"Enter your choice: \")\n",
    "        if choice == \"1\":\n",
    "            enter_expenses()\n",
    "        elif choice == \"2\":\n",
    "            print_expenses(expenses)\n",
    "        elif choice == \"3\":\n",
    "            calculate_total_expenses(expenses,monthly_budget)\n",
    "        elif choice == \"4\":\n",
    "            save_expenses_to_csv()\n",
    "            print(\"Exiting the program\")\n",
    "        elif choice == \"5\":\n",
    "            break\n",
    "        else:\n",
    "            print(\"Invalid choice\")"
   ]
  },
  {
   "cell_type": "code",
   "execution_count": null,
   "id": "f5df2cde-e6a9-4950-a678-6744a697f09c",
   "metadata": {
    "tags": []
   },
   "outputs": [
    {
     "name": "stdout",
     "output_type": "stream",
     "text": [
      "1. Add an expense\n",
      "2. View expenses\n",
      "3. Track budget\n",
      "4. Save expenses\n",
      "5. Exit\n"
     ]
    },
    {
     "name": "stdin",
     "output_type": "stream",
     "text": [
      "Enter your choice:  2025-07-29\n"
     ]
    },
    {
     "name": "stdout",
     "output_type": "stream",
     "text": [
      "Invalid choice\n",
      "1. Add an expense\n",
      "2. View expenses\n",
      "3. Track budget\n",
      "4. Save expenses\n",
      "5. Exit\n"
     ]
    },
    {
     "name": "stdin",
     "output_type": "stream",
     "text": [
      "Enter your choice:  1\n",
      "Enter Date (YYYY-MM-DD): 2027-07-29\n",
      "Expense Category: Uber\n",
      "Amount: 11\n",
      "Brief Description: Uber home\n"
     ]
    },
    {
     "name": "stdout",
     "output_type": "stream",
     "text": [
      "1. Add an expense\n",
      "2. View expenses\n",
      "3. Track budget\n",
      "4. Save expenses\n",
      "5. Exit\n"
     ]
    },
    {
     "name": "stdin",
     "output_type": "stream",
     "text": [
      "Enter your choice:  2\n"
     ]
    },
    {
     "name": "stdout",
     "output_type": "stream",
     "text": [
      "date 2020-12-12\n",
      "category Food\n",
      "amount 78.0\n",
      "description Food for thought\n",
      "\n",
      "\n",
      "date 2020-12-06\n",
      "category Clothing\n",
      "amount 56.0\n",
      "description Clothing for the poor\n",
      "\n",
      "\n",
      "date 2020-08-08\n",
      "category Food\n",
      "amount 12.0\n",
      "description Friday night\n",
      "\n",
      "\n",
      "date 2027-07-29\n",
      "category Uber\n",
      "amount 11.0\n",
      "description Uber home\n",
      "\n",
      "\n",
      "1. Add an expense\n",
      "2. View expenses\n",
      "3. Track budget\n",
      "4. Save expenses\n",
      "5. Exit\n"
     ]
    },
    {
     "name": "stdin",
     "output_type": "stream",
     "text": [
      "Enter your choice:  3\n"
     ]
    },
    {
     "name": "stdout",
     "output_type": "stream",
     "text": [
      "\n",
      "\n",
      "\n",
      "\n",
      "\n",
      "\n",
      "\n",
      "\n",
      "You have 43.0 left for the month\n",
      "1. Add an expense\n",
      "2. View expenses\n",
      "3. Track budget\n",
      "4. Save expenses\n",
      "5. Exit\n"
     ]
    },
    {
     "name": "stdin",
     "output_type": "stream",
     "text": [
      "Enter your choice:  4\n"
     ]
    },
    {
     "name": "stdout",
     "output_type": "stream",
     "text": [
      "Expenses saved to expenses.csv\n",
      "Exiting the program\n",
      "1. Add an expense\n",
      "2. View expenses\n",
      "3. Track budget\n",
      "4. Save expenses\n",
      "5. Exit\n"
     ]
    }
   ],
   "source": [
    "menu()"
   ]
  },
  {
   "cell_type": "code",
   "execution_count": null,
   "id": "a4ca6f7e-250e-46bf-8661-14823d9b1238",
   "metadata": {
    "tags": []
   },
   "outputs": [
    {
     "name": "stdout",
     "output_type": "stream",
     "text": [
      "1. Add an expense\n",
      "2. View expenses\n",
      "3. Track budget\n",
      "4. Save expenses\n",
      "5. Exit\n"
     ]
    },
    {
     "name": "stdin",
     "output_type": "stream",
     "text": [
      "Enter your choice:  2025-07-29\n"
     ]
    },
    {
     "name": "stdout",
     "output_type": "stream",
     "text": [
      "Invalid choice\n",
      "1. Add an expense\n",
      "2. View expenses\n",
      "3. Track budget\n",
      "4. Save expenses\n",
      "5. Exit\n"
     ]
    },
    {
     "name": "stdin",
     "output_type": "stream",
     "text": [
      "Enter your choice:  1\n",
      "Enter Date (YYYY-MM-DD): 2027-07-29\n",
      "Expense Category: Uber\n",
      "Amount: 11\n",
      "Brief Description: Uber home\n"
     ]
    },
    {
     "name": "stdout",
     "output_type": "stream",
     "text": [
      "1. Add an expense\n",
      "2. View expenses\n",
      "3. Track budget\n",
      "4. Save expenses\n",
      "5. Exit\n"
     ]
    },
    {
     "name": "stdin",
     "output_type": "stream",
     "text": [
      "Enter your choice:  2\n"
     ]
    },
    {
     "name": "stdout",
     "output_type": "stream",
     "text": [
      "date 2020-12-12\n",
      "category Food\n",
      "amount 78.0\n",
      "description Food for thought\n",
      "\n",
      "\n",
      "date 2020-12-06\n",
      "category Clothing\n",
      "amount 56.0\n",
      "description Clothing for the poor\n",
      "\n",
      "\n",
      "date 2020-08-08\n",
      "category Food\n",
      "amount 12.0\n",
      "description Friday night\n",
      "\n",
      "\n",
      "date 2027-07-29\n",
      "category Uber\n",
      "amount 11.0\n",
      "description Uber home\n",
      "\n",
      "\n",
      "1. Add an expense\n",
      "2. View expenses\n",
      "3. Track budget\n",
      "4. Save expenses\n",
      "5. Exit\n"
     ]
    },
    {
     "name": "stdin",
     "output_type": "stream",
     "text": [
      "Enter your choice:  3\n"
     ]
    },
    {
     "name": "stdout",
     "output_type": "stream",
     "text": [
      "\n",
      "\n",
      "\n",
      "\n",
      "\n",
      "\n",
      "\n",
      "\n",
      "You have 43.0 left for the month\n",
      "1. Add an expense\n",
      "2. View expenses\n",
      "3. Track budget\n",
      "4. Save expenses\n",
      "5. Exit\n"
     ]
    },
    {
     "name": "stdin",
     "output_type": "stream",
     "text": [
      "Enter your choice:  4\n"
     ]
    },
    {
     "name": "stdout",
     "output_type": "stream",
     "text": [
      "Expenses saved to expenses.csv\n",
      "Exiting the program\n",
      "1. Add an expense\n",
      "2. View expenses\n",
      "3. Track budget\n",
      "4. Save expenses\n",
      "5. Exit\n"
     ]
    }
   ],
   "source": [
    "menu()"
   ]
  }
 ],
 "metadata": {
  "kernelspec": {
   "display_name": "Python 3 (ipykernel)",
   "language": "python",
   "name": "python3"
  },
  "language_info": {
   "codemirror_mode": {
    "name": "ipython",
    "version": 3
   },
   "file_extension": ".py",
   "mimetype": "text/x-python",
   "name": "python",
   "nbconvert_exporter": "python",
   "pygments_lexer": "ipython3",
   "version": "3.11.5"
  }
 },
 "nbformat": 4,
 "nbformat_minor": 5
}
