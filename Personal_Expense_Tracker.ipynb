{
 "cells": [
  {
   "cell_type": "markdown",
   "id": "cc58e2a3-41b9-41fd-95bc-1bea3c73f043",
   "metadata": {},
   "source": [
    "# Personal Expense Tracker - AGS-Python Basics "
   ]
  },
  {
   "cell_type": "code",
   "execution_count": 6,
   "id": "17042273-3159-4682-86a6-01542d866203",
   "metadata": {
    "tags": []
   },
   "outputs": [],
   "source": [
    "expenses = []"
   ]
  },
  {
   "cell_type": "code",
   "execution_count": 24,
   "id": "7958e93c-0921-4112-be53-5bf1afda9c58",
   "metadata": {
    "tags": []
   },
   "outputs": [],
   "source": [
    "def personal_expense_tracker():    \n",
    "    expense_date = input(\"Enter Date (YYYY-MM-DD):\")\n",
    "    expense_category = input(\"Expense Category:\")\n",
    "    expense_amount = float(input(\"Amount:\"))\n",
    "    expense_description = input(\"Brief Description:\")\n",
    "\n",
    "    expense = {\n",
    "        \"date\": expense_date,\n",
    "        \"category\": expense_category,\n",
    "        \"amount\":expense_amount,\n",
    "        \"description\": expense_description\n",
    "    }\n",
    "    expenses.append(expense)\n",
    "    return expenses"
   ]
  },
  {
   "cell_type": "code",
   "execution_count": 27,
   "id": "05806a01-df71-47c0-b252-d869082fb3f7",
   "metadata": {
    "tags": []
   },
   "outputs": [
    {
     "name": "stdin",
     "output_type": "stream",
     "text": [
      "Enter Date (YYYY-MM-DD): 12-12-12\n",
      "Expense Category: \n",
      "Amount: 56.6\n",
      "Brief Description: dis\n"
     ]
    },
    {
     "name": "stdout",
     "output_type": "stream",
     "text": [
      "[{'date': '2012-12-12', 'category': 'Food', 'amount': 12.3, 'description': 'Out'}, {'date': '2121-02-02', 'category': 'Clothing', 'amount': 56.6, 'description': 'Summer clothing'}, {'date': '12-12-12', 'category': '', 'amount': 56.6, 'description': 'dis'}]\n"
     ]
    }
   ],
   "source": [
    "personal_expenses = personal_expense_tracker()\n",
    "print(personal_expenses)"
   ]
  },
  {
   "cell_type": "code",
   "execution_count": 28,
   "id": "4061e45a-3d87-4172-9846-2040cf109f7a",
   "metadata": {
    "tags": []
   },
   "outputs": [
    {
     "name": "stdout",
     "output_type": "stream",
     "text": [
      "[{'date': '2012-12-12', 'category': 'Food', 'amount': 12.3, 'description': 'Out'}, {'date': '2121-02-02', 'category': 'Clothing', 'amount': 56.6, 'description': 'Summer clothing'}, {'date': '12-12-12', 'category': '', 'amount': 56.6, 'description': 'dis'}]\n"
     ]
    }
   ],
   "source": [
    "print(personal_expenses)"
   ]
  },
  {
   "cell_type": "code",
   "execution_count": 29,
   "id": "2a3e22e6-2a8f-4be2-9906-b4adb41275a6",
   "metadata": {
    "tags": []
   },
   "outputs": [
    {
     "name": "stdout",
     "output_type": "stream",
     "text": [
      "date 2012-12-12\n",
      "category Food\n",
      "amount 12.3\n",
      "description Out\n",
      "\n",
      "\n",
      "date 2121-02-02\n",
      "category Clothing\n",
      "amount 56.6\n",
      "description Summer clothing\n",
      "\n",
      "\n",
      "Incomplete expense entry. Skipping...\n",
      "\n"
     ]
    }
   ],
   "source": [
    "def print_expenses(personal_expenses):\n",
    "    for expense in personal_expenses:\n",
    "        \n",
    "        \n",
    "        if expense[\"date\"] == \"\" or expense[\"category\"] == \"\" or expense[\"amount\"] == \"\" or expense[\"description\"] == \"\":\n",
    "            print(\"Incomplete expense entry skipped.\\n\")\n",
    "            continue\n",
    "            \n",
    "        for k,v in expense.items():\n",
    "            print(k,v)\n",
    "        print(\"\\n\")\n",
    "\n",
    "print_expenses(personal_expenses)"
   ]
  },
  {
   "cell_type": "code",
   "execution_count": 31,
   "id": "d333541d-311b-43ee-870e-cc330d20faec",
   "metadata": {
    "tags": []
   },
   "outputs": [],
   "source": [
    "def monthly_budget():\n",
    "    return float(input(\"What's your monthly budget?\"))"
   ]
  },
  {
   "cell_type": "code",
   "execution_count": 32,
   "id": "5b2988f1-230a-462b-9dce-d69e2ddd96e2",
   "metadata": {
    "tags": []
   },
   "outputs": [
    {
     "name": "stdin",
     "output_type": "stream",
     "text": [
      "What's your monthly budget? 190\n"
     ]
    }
   ],
   "source": [
    "monthly_budget = monthly_budget()"
   ]
  },
  {
   "cell_type": "code",
   "execution_count": 40,
   "id": "6e41644f-b64f-43c1-8b73-b29943e850eb",
   "metadata": {
    "tags": []
   },
   "outputs": [
    {
     "name": "stdout",
     "output_type": "stream",
     "text": [
      "\n",
      "\n",
      "\n",
      "\n",
      "\n",
      "\n",
      "You have 64.5 left for the month\n"
     ]
    }
   ],
   "source": [
    "\n",
    "def calculate_total_expenses(personal_expenses,budget):\n",
    "    total_expense = 0\n",
    "    for expense in personal_expenses:\n",
    "        \n",
    "        \n",
    "        #if not (expense[\"date\"] == \"\" or expense[\"category\"] == \"\" or expense[\"amount\"] == \"\" or expense[\"description\"] == \"\"):\n",
    "        total_expense = expense[\"amount\"]+total_expense\n",
    "            \n",
    "        \n",
    "        print(\"\\n\")\n",
    "    if total_expense > budget:\n",
    "        print(\"You have exceeded your budget\",end=\"\\n\")\n",
    "    else:\n",
    "        print(f'You have {budget-total_expense} left for the month')\n",
    "calculate_total_expenses(expenses,monthly_budget)"
   ]
  }
 ],
 "metadata": {
  "kernelspec": {
   "display_name": "Python 3 (ipykernel)",
   "language": "python",
   "name": "python3"
  },
  "language_info": {
   "codemirror_mode": {
    "name": "ipython",
    "version": 3
   },
   "file_extension": ".py",
   "mimetype": "text/x-python",
   "name": "python",
   "nbconvert_exporter": "python",
   "pygments_lexer": "ipython3",
   "version": "3.11.5"
  }
 },
 "nbformat": 4,
 "nbformat_minor": 5
}
