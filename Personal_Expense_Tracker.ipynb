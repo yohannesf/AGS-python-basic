{
 "cells": [
  {
   "cell_type": "markdown",
   "id": "cc58e2a3-41b9-41fd-95bc-1bea3c73f043",
   "metadata": {},
   "source": [
    "# Personal Expense Tracker - AGS-Python Basics "
   ]
  },
  {
   "cell_type": "code",
   "execution_count": null,
   "id": "45fe31c1-7c07-43a4-ada6-905ac284d0b6",
   "metadata": {},
   "outputs": [],
   "source": []
  }
 ],
 "metadata": {
  "kernelspec": {
   "display_name": "Python 3 (ipykernel)",
   "language": "python",
   "name": "python3"
  },
  "language_info": {
   "codemirror_mode": {
    "name": "ipython",
    "version": 3
   },
   "file_extension": ".py",
   "mimetype": "text/x-python",
   "name": "python",
   "nbconvert_exporter": "python",
   "pygments_lexer": "ipython3",
   "version": "3.11.5"
  }
 },
 "nbformat": 4,
 "nbformat_minor": 5
}
