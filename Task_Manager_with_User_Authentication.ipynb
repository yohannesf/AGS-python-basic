{
 "cells": [
  {
   "cell_type": "code",
   "execution_count": 24,
   "id": "09c76635-7d0e-492f-84f1-64c3ae798055",
   "metadata": {
    "tags": []
   },
   "outputs": [],
   "source": [
    "import hashlib\n",
    "import os\n",
    "import csv"
   ]
  },
  {
   "cell_type": "code",
   "execution_count": 10,
   "id": "8bf180b8-2914-4320-ad59-1747ae8c5666",
   "metadata": {
    "tags": []
   },
   "outputs": [],
   "source": [
    "def hash_password(password):\n",
    "    \"\"\"hash the password for security before storing it in a file\"\"\"\n",
    "    return hashlib.sha256(password.encode()).hexdigest()"
   ]
  },
  {
   "cell_type": "code",
   "execution_count": 26,
   "id": "bdf81675-21ea-41f4-a9bf-a15d89ca5d41",
   "metadata": {
    "tags": []
   },
   "outputs": [],
   "source": [
    "'''usernames and passwords will be stored in a txt file'''\n",
    "if not os.path.exists(\"users.txt\"):\n",
    "    with open(\"users.txt\", \"w\") as f:\n",
    "        pass  # create an empty file\n",
    "    \n",
    "''' tasks will be stored in a csv file for easier management'''\n",
    "if not os.path.exists(\"tasks.csv\"):\n",
    "        with open(\"tasks.csv\", \"w\", newline='') as f:\n",
    "            writer = csv.writer(f)\n",
    "            writer.writerow([\"username\", \"task_id\", \"description\", \"status\"])"
   ]
  },
  {
   "cell_type": "code",
   "execution_count": 21,
   "id": "486c68d5-dbcf-4bdc-a8a3-53cf780c5add",
   "metadata": {
    "tags": []
   },
   "outputs": [],
   "source": [
    "def register_user():\n",
    "    '''Create a function to prompt the user to enter a username and password'''\n",
    "    username = input(\"Enter a new username: \")\n",
    "    password = input(\"Enter a new password: \")\n",
    "    hashed_pd = hash_password(password)\n",
    "    \n",
    "    '''Ensure that the username is unique'''\n",
    "    with open(\"users.txt\", \"r\") as f:\n",
    "        for line in f:\n",
    "            existing_username, _ = line.strip().split(\",\", 1)\n",
    "            if username == existing_username:\n",
    "                print(\"Usernames must be unique. Please try a different one.\")\n",
    "                return\n",
    "            \n",
    "    '''hash the password for security before storing it in a file'''\n",
    "    with open(\"users.txt\", \"a\") as f:\n",
    "        f.write(f\"{username},{hashed_pd}\\n\")\n",
    "    \n",
    "    print(f\"{username} registered successfully.\")"
   ]
  },
  {
   "cell_type": "code",
   "execution_count": 22,
   "id": "b5de6acd-8680-437c-98ba-ba85857bf3bc",
   "metadata": {
    "tags": []
   },
   "outputs": [
    {
     "name": "stdin",
     "output_type": "stream",
     "text": [
      "Enter a new username:  user5\n",
      "Enter a new password:  password5\n"
     ]
    },
    {
     "name": "stdout",
     "output_type": "stream",
     "text": [
      "user5 registered successfully.\n"
     ]
    }
   ],
   "source": [
    "register_user()"
   ]
  },
  {
   "cell_type": "code",
   "execution_count": 14,
   "id": "c783e127-53cd-4002-ba34-7dcbd61d4d96",
   "metadata": {
    "tags": []
   },
   "outputs": [],
   "source": [
    "def login_user():\n",
    "    username = input(\"Enter your username: \")\n",
    "    password = input(\"Enter your password: \")\n",
    "    hashed = hash_password(password)\n",
    "    \n",
    "    with open(\"users.txt\", \"r\") as f:\n",
    "        for line in f:\n",
    "            stored_username, stored_hash = line.strip().split(\",\", 1)\n",
    "            if username == stored_username and hashed == stored_hash:\n",
    "                print(\"Login successful!\")\n",
    "                return username  \n",
    "            \n",
    "    '''if not, the the function will reach this line and prints the following statement'''\n",
    "    print(\"Incorrect username or password.\")\n",
    "    return None"
   ]
  },
  {
   "cell_type": "code",
   "execution_count": 17,
   "id": "09212503-a10c-45bf-9b87-39cd47885566",
   "metadata": {
    "tags": []
   },
   "outputs": [
    {
     "name": "stdin",
     "output_type": "stream",
     "text": [
      "Enter your username:  user1\n",
      "Enter your password:  pass\n"
     ]
    },
    {
     "name": "stdout",
     "output_type": "stream",
     "text": [
      "Invalid username or password.\n"
     ]
    }
   ],
   "source": [
    "login_user()"
   ]
  },
  {
   "cell_type": "code",
   "execution_count": 27,
   "id": "cf3e32a7-d9d2-42b1-9a59-501c80aa7496",
   "metadata": {
    "tags": []
   },
   "outputs": [],
   "source": [
    "def add_task(username):\n",
    "    \n",
    "    '''Create a function that prompts the user for a task description. \n",
    "       Assign a unique task ID and set the status to Pending\n",
    "       Store the task in a file, and confirm that the task was added'''\n",
    "\n",
    "    task_description = input(\"Enter task description: \")\n",
    "    \n",
    "    # Read all tasks to calculate the next task_id for currently logged in user\n",
    "    task_id = 1\n",
    "    with open(\"tasks.csv\", \"r\") as f:\n",
    "        reader = csv.reader(f)\n",
    "        next(reader)  # skip header\n",
    "        for row in reader:\n",
    "            if row[0] == username:\n",
    "                task_id += 1\n",
    "    \n",
    "    with open(\"tasks.csv\", \"a\", newline='') as f:\n",
    "        writer = csv.writer(f)\n",
    "        writer.writerow([username, task_id, task_description, \"Pending\"])\n",
    "    \n",
    "    print(f\"Task #{task_id} added successfully for '{username}'.\")"
   ]
  },
  {
   "cell_type": "code",
   "execution_count": null,
   "id": "4ea67a45-3ac0-4ff7-9a4b-56411faa1545",
   "metadata": {
    "tags": []
   },
   "outputs": [
    {
     "name": "stdin",
     "output_type": "stream",
     "text": [
      "Enter your username:  user2\n"
     ]
    }
   ],
   "source": [
    "logged_in_user = login_user()"
   ]
  },
  {
   "cell_type": "code",
   "execution_count": 35,
   "id": "98be6dfb-c557-4f4c-91b6-20e471754acc",
   "metadata": {
    "tags": []
   },
   "outputs": [
    {
     "name": "stdin",
     "output_type": "stream",
     "text": [
      "Enter task description:  Do laundry\n"
     ]
    },
    {
     "name": "stdout",
     "output_type": "stream",
     "text": [
      "Task #3 added successfully for 'user1'.\n"
     ]
    }
   ],
   "source": [
    "add_task(logged_in_user)"
   ]
  },
  {
   "cell_type": "code",
   "execution_count": 32,
   "id": "ddad05d6-ff45-43f1-963f-c1881858730c",
   "metadata": {
    "tags": []
   },
   "outputs": [],
   "source": [
    "def view_tasks(username):\n",
    "    '''Create a function to retrieve and display all tasks for the logged-in user\n",
    "       Each task should show the task ID, description, and status (Pending or Completed)'''\n",
    "\n",
    "    print(f\"\\n{username} - tasks:\")\n",
    "    with open(\"tasks.csv\", \"r\") as f:\n",
    "        reader = csv.reader(f)\n",
    "        next(reader)  # skip header\n",
    "        found = False\n",
    "        \n",
    "        #iterate through each row\n",
    "        for row in reader:\n",
    "            if row[0] == username:\n",
    "                print(f\"ID: {row[1]} | Description: {row[2]} | Status: {row[3]}\")\n",
    "                found = True\n",
    "\n",
    "    if not found:\n",
    "        print(\"No tasks found for logged in user.\")"
   ]
  },
  {
   "cell_type": "code",
   "execution_count": 43,
   "id": "21deadf4-ef4b-4433-a03d-be0b18004766",
   "metadata": {
    "tags": []
   },
   "outputs": [
    {
     "name": "stdout",
     "output_type": "stream",
     "text": [
      "\n",
      "user2 - tasks:\n",
      "ID: 1 | Description: Finalize assignment | Status: Pending\n",
      "ID: 2 | Description: Take test | Status: Completed\n"
     ]
    }
   ],
   "source": [
    "view_tasks(logged_in_user)"
   ]
  },
  {
   "cell_type": "code",
   "execution_count": 41,
   "id": "5ca97414-2e50-4830-8d0b-527db55a1f77",
   "metadata": {
    "tags": []
   },
   "outputs": [],
   "source": [
    "def mark_task_completed(username):\n",
    "    task_id = input(\"Enter the task ID to mark it as completed: \")\n",
    "    \n",
    "    updated_rows = []\n",
    "    task_found = False\n",
    "    \n",
    "    with open(\"tasks.csv\", \"r\") as f:\n",
    "        reader = csv.reader(f)\n",
    "        header = next(reader)\n",
    "        for row in reader:\n",
    "            if row[0] == username and row[1] == task_id:\n",
    "                row[3] = \"Completed\"\n",
    "                task_found = True\n",
    "            updated_rows.append(row)\n",
    "    \n",
    "    #Update rows in CSV\n",
    "    \n",
    "    with open(\"tasks.csv\", \"w\", newline='') as f:\n",
    "        writer = csv.writer(f)\n",
    "        writer.writerow(header)\n",
    "        writer.writerows(updated_rows)\n",
    "    \n",
    "    if task_found:\n",
    "        print(f\"Task #{task_id} marked as completed.\")\n",
    "    else:\n",
    "        print(f\"No task with ID {task_id} found for '{username}'.\")"
   ]
  },
  {
   "cell_type": "code",
   "execution_count": 42,
   "id": "8c254fd7-0153-41fe-92ee-aa5ba8e6332e",
   "metadata": {
    "tags": []
   },
   "outputs": [
    {
     "name": "stdin",
     "output_type": "stream",
     "text": [
      "Enter the task ID to mark it as completed:  2\n"
     ]
    },
    {
     "name": "stdout",
     "output_type": "stream",
     "text": [
      "Task #2 marked as completed.\n"
     ]
    }
   ],
   "source": [
    "mark_task_completed(logged_in_user)"
   ]
  },
  {
   "cell_type": "code",
   "execution_count": 44,
   "id": "fd616913-9289-44e8-ad8c-8e60cbaf108f",
   "metadata": {
    "tags": []
   },
   "outputs": [],
   "source": [
    "def delete_task(username):\n",
    "    \n",
    "    '''Create a function that allows the user to select a task by its ID and delete it from their task list'''\n",
    "    \n",
    "    task_id = input(\"Enter the task ID to delete: \")\n",
    "    \n",
    "    updated_rows = []\n",
    "    task_deleted = False\n",
    "    \n",
    "    with open(\"tasks.csv\", \"r\") as f:\n",
    "        reader = csv.reader(f)\n",
    "        header = next(reader)\n",
    "        for row in reader:\n",
    "            if row[0] == username and row[1] == task_id:\n",
    "                task_deleted = True\n",
    "                continue  # skip this row\n",
    "            updated_rows.append(row)\n",
    "    \n",
    "    with open(\"tasks.csv\", \"w\", newline='') as f:\n",
    "        writer = csv.writer(f)\n",
    "        writer.writerow(header)\n",
    "        writer.writerows(updated_rows)\n",
    "    \n",
    "    if task_deleted:\n",
    "        print(f\"Task #{task_id} deleted.\")\n",
    "    else:\n",
    "        print(f\"No task with ID {task_id} found for '{username}'.\")"
   ]
  },
  {
   "cell_type": "code",
   "execution_count": 45,
   "id": "5f47af24-5a86-47b6-bf14-c8878df72dc3",
   "metadata": {
    "tags": []
   },
   "outputs": [
    {
     "data": {
      "text/plain": [
       "'user2'"
      ]
     },
     "execution_count": 45,
     "metadata": {},
     "output_type": "execute_result"
    }
   ],
   "source": [
    "logged_in_user"
   ]
  },
  {
   "cell_type": "code",
   "execution_count": 48,
   "id": "f6a75a27-77a3-45f2-b60e-1b62ea4f6054",
   "metadata": {
    "tags": []
   },
   "outputs": [
    {
     "name": "stdin",
     "output_type": "stream",
     "text": [
      "Enter the task ID to delete:  3\n"
     ]
    },
    {
     "name": "stdout",
     "output_type": "stream",
     "text": [
      "No task with ID 3 found for 'user2'.\n"
     ]
    }
   ],
   "source": [
    "delete_task(logged_in_user)"
   ]
  },
  {
   "cell_type": "code",
   "execution_count": 47,
   "id": "438f6820-ae32-4732-b402-f55f29d2dca4",
   "metadata": {
    "tags": []
   },
   "outputs": [
    {
     "name": "stdout",
     "output_type": "stream",
     "text": [
      "\n",
      "user2 - tasks:\n",
      "ID: 2 | Description: Take test | Status: Completed\n"
     ]
    }
   ],
   "source": [
    "view_tasks(logged_in_user)"
   ]
  },
  {
   "cell_type": "code",
   "execution_count": 53,
   "id": "5c24b107-0c36-4f45-a04b-9cb0cacbf602",
   "metadata": {
    "tags": []
   },
   "outputs": [],
   "source": [
    "def start_task_manager():\n",
    "    print(\"\\nWelcome to the Task Manager\")\n",
    "\n",
    "    username = login_user()\n",
    "    if logged_in_user:\n",
    "        while True:\n",
    "            print(f\"\\nWelcome, {username}! What would you like to do?\")\n",
    "            print(\"1. Add Task\")\n",
    "            print(\"2. View Tasks\")\n",
    "            print(\"3. Mark Task as Completed\")\n",
    "            print(\"4. Delete Task\")\n",
    "            print(\"5. Logout\")\n",
    "\n",
    "            choice = input(\"Enter your choice (1-5): \")\n",
    "\n",
    "            if choice == \"1\":\n",
    "                add_task(username)\n",
    "            elif choice == \"2\":\n",
    "                view_tasks(username)\n",
    "            elif choice == \"3\":\n",
    "                mark_task_completed(username)\n",
    "            elif choice == \"4\":\n",
    "                delete_task(username)\n",
    "            elif choice == \"5\":\n",
    "                print(f\"Logging out {username}...\\n\")\n",
    "                break\n",
    "            else:\n",
    "                print(\"Invalid choice. Please enter a number from 1 to 5.\")\n",
    "    else:\n",
    "        print(\"You must be logged in to use the Task Manager.\")"
   ]
  },
  {
   "cell_type": "code",
   "execution_count": 54,
   "id": "28f98997-cd50-44ad-87e0-09a56751cdb6",
   "metadata": {
    "tags": []
   },
   "outputs": [
    {
     "name": "stdout",
     "output_type": "stream",
     "text": [
      "\n",
      "Welcome to the Task Manager\n"
     ]
    },
    {
     "name": "stdin",
     "output_type": "stream",
     "text": [
      "Enter your username:  user1\n",
      "Enter your password:  password1\n"
     ]
    },
    {
     "name": "stdout",
     "output_type": "stream",
     "text": [
      "Login successful!\n",
      "\n",
      "Welcome, user1! What would you like to do?\n",
      "1. Add Task\n",
      "2. View Tasks\n",
      "3. Mark Task as Completed\n",
      "4. Delete Task\n",
      "5. Logout\n"
     ]
    },
    {
     "name": "stdin",
     "output_type": "stream",
     "text": [
      "Enter your choice (1-5):  1\n",
      "Enter task description:  test\n"
     ]
    },
    {
     "name": "stdout",
     "output_type": "stream",
     "text": [
      "Task #4 added successfully for 'user1'.\n",
      "\n",
      "Welcome, user1! What would you like to do?\n",
      "1. Add Task\n",
      "2. View Tasks\n",
      "3. Mark Task as Completed\n",
      "4. Delete Task\n",
      "5. Logout\n"
     ]
    },
    {
     "name": "stdin",
     "output_type": "stream",
     "text": [
      "Enter your choice (1-5):  2\n"
     ]
    },
    {
     "name": "stdout",
     "output_type": "stream",
     "text": [
      "\n",
      "user1 - tasks:\n",
      "ID: 1 | Description: Finalize report | Status: Pending\n",
      "ID: 2 | Description: Prepare for marathon | Status: Pending\n",
      "ID: 3 | Description: Do laundry | Status: Pending\n",
      "ID: 4 | Description: test | Status: Pending\n",
      "\n",
      "Welcome, user1! What would you like to do?\n",
      "1. Add Task\n",
      "2. View Tasks\n",
      "3. Mark Task as Completed\n",
      "4. Delete Task\n",
      "5. Logout\n"
     ]
    },
    {
     "name": "stdin",
     "output_type": "stream",
     "text": [
      "Enter your choice (1-5):  3\n",
      "Enter the task ID to mark it as completed:  4\n"
     ]
    },
    {
     "name": "stdout",
     "output_type": "stream",
     "text": [
      "Task #4 marked as completed.\n",
      "\n",
      "Welcome, user1! What would you like to do?\n",
      "1. Add Task\n",
      "2. View Tasks\n",
      "3. Mark Task as Completed\n",
      "4. Delete Task\n",
      "5. Logout\n"
     ]
    },
    {
     "name": "stdin",
     "output_type": "stream",
     "text": [
      "Enter your choice (1-5):  2\n"
     ]
    },
    {
     "name": "stdout",
     "output_type": "stream",
     "text": [
      "\n",
      "user1 - tasks:\n",
      "ID: 1 | Description: Finalize report | Status: Pending\n",
      "ID: 2 | Description: Prepare for marathon | Status: Pending\n",
      "ID: 3 | Description: Do laundry | Status: Pending\n",
      "ID: 4 | Description: test | Status: Completed\n",
      "\n",
      "Welcome, user1! What would you like to do?\n",
      "1. Add Task\n",
      "2. View Tasks\n",
      "3. Mark Task as Completed\n",
      "4. Delete Task\n",
      "5. Logout\n"
     ]
    },
    {
     "name": "stdin",
     "output_type": "stream",
     "text": [
      "Enter your choice (1-5):  4\n",
      "Enter the task ID to delete:  3\n"
     ]
    },
    {
     "name": "stdout",
     "output_type": "stream",
     "text": [
      "Task #3 deleted.\n",
      "\n",
      "Welcome, user1! What would you like to do?\n",
      "1. Add Task\n",
      "2. View Tasks\n",
      "3. Mark Task as Completed\n",
      "4. Delete Task\n",
      "5. Logout\n"
     ]
    },
    {
     "name": "stdin",
     "output_type": "stream",
     "text": [
      "Enter your choice (1-5):  2\n"
     ]
    },
    {
     "name": "stdout",
     "output_type": "stream",
     "text": [
      "\n",
      "user1 - tasks:\n",
      "ID: 1 | Description: Finalize report | Status: Pending\n",
      "ID: 2 | Description: Prepare for marathon | Status: Pending\n",
      "ID: 4 | Description: test | Status: Completed\n",
      "\n",
      "Welcome, user1! What would you like to do?\n",
      "1. Add Task\n",
      "2. View Tasks\n",
      "3. Mark Task as Completed\n",
      "4. Delete Task\n",
      "5. Logout\n"
     ]
    },
    {
     "name": "stdin",
     "output_type": "stream",
     "text": [
      "Enter your choice (1-5):  5\n"
     ]
    },
    {
     "name": "stdout",
     "output_type": "stream",
     "text": [
      "Logging out user1...\n",
      "\n"
     ]
    }
   ],
   "source": [
    "start_task_manager()"
   ]
  }
 ],
 "metadata": {
  "kernelspec": {
   "display_name": "Python 3 (ipykernel)",
   "language": "python",
   "name": "python3"
  },
  "language_info": {
   "codemirror_mode": {
    "name": "ipython",
    "version": 3
   },
   "file_extension": ".py",
   "mimetype": "text/x-python",
   "name": "python",
   "nbconvert_exporter": "python",
   "pygments_lexer": "ipython3",
   "version": "3.11.5"
  }
 },
 "nbformat": 4,
 "nbformat_minor": 5
}
